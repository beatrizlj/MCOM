{
 "cells": [
  {
   "cell_type": "markdown",
   "id": "55b0f541-86f6-45e2-86bc-1c239770b8e2",
   "metadata": {},
   "source": [
    "### Python Fundamentals"
   ]
  },
  {
   "cell_type": "markdown",
   "id": "322c4772-8324-4dd2-9848-28f9f2e5bae4",
   "metadata": {},
   "source": [
    "### CHECK YOUR UNDERSTANDING"
   ]
  },
  {
   "cell_type": "markdown",
   "id": "1ed19be3-174f-4ef3-bdf0-a768604cf9c0",
   "metadata": {},
   "source": [
    "What values do the variables mass and age have after each of the following statements? Test your answer by executing the lines."
   ]
  },
  {
   "cell_type": "code",
   "execution_count": 2,
   "id": "8b0a02c5-c36b-48af-8418-98d28fc04cde",
   "metadata": {},
   "outputs": [],
   "source": [
    "mass = 47.5\n",
    "age = 122"
   ]
  },
  {
   "cell_type": "code",
   "execution_count": null,
   "id": "cb948018-332e-46b9-b1af-7703bf8ff46b",
   "metadata": {},
   "outputs": [],
   "source": [
    "print(`mass` holds a value of 47.5, `age` does not exist)"
   ]
  },
  {
   "cell_type": "code",
   "execution_count": 3,
   "id": "9b942be3-301d-4e10-b036-6e948cd8b37f",
   "metadata": {},
   "outputs": [],
   "source": [
    "mass = mass * 2.0"
   ]
  },
  {
   "cell_type": "code",
   "execution_count": 4,
   "id": "81508675-caff-49e9-9523-d368de3f3bab",
   "metadata": {},
   "outputs": [
    {
     "name": "stdout",
     "output_type": "stream",
     "text": [
      "95.0\n"
     ]
    }
   ],
   "source": [
    "print(mass)"
   ]
  },
  {
   "cell_type": "code",
   "execution_count": 5,
   "id": "b46e1c38-f6f4-4e24-bfc2-e879a6dd8c9e",
   "metadata": {},
   "outputs": [],
   "source": [
    "age = age - 20"
   ]
  },
  {
   "cell_type": "code",
   "execution_count": 6,
   "id": "d2c6c335-e8b6-49d5-98af-d546c09a46b8",
   "metadata": {},
   "outputs": [
    {
     "name": "stdout",
     "output_type": "stream",
     "text": [
      "102\n"
     ]
    }
   ],
   "source": [
    "print(age)"
   ]
  },
  {
   "cell_type": "code",
   "execution_count": null,
   "id": "b2d61f5b-e700-4cf9-a68c-65dc25da0120",
   "metadata": {},
   "outputs": [],
   "source": []
  }
 ],
 "metadata": {
  "kernelspec": {
   "display_name": "Python 3 (ipykernel)",
   "language": "python",
   "name": "python3"
  },
  "language_info": {
   "codemirror_mode": {
    "name": "ipython",
    "version": 3
   },
   "file_extension": ".py",
   "mimetype": "text/x-python",
   "name": "python",
   "nbconvert_exporter": "python",
   "pygments_lexer": "ipython3",
   "version": "3.11.7"
  }
 },
 "nbformat": 4,
 "nbformat_minor": 5
}
