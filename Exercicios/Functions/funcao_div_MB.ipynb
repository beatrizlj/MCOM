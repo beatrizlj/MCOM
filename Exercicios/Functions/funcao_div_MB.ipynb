{
 "cells": [
  {
   "cell_type": "code",
   "execution_count": 29,
   "id": "a66f0519-fead-4c1d-a761-8257620e3e23",
   "metadata": {},
   "outputs": [],
   "source": [
    "#definindo a funcao para dividir uma quantida de dinheiro qualquer para um numero qualquer de pessoas\n",
    "def funcao_div_MB (quantia, num_pessoas):\n",
    "    # realiza a operacao de divisao\n",
    "    quantia_cada_um = quantia/num_pessoas\n",
    "    #retona o valor que cada pessoa vai receber\n",
    "    return quantia_cada_um"
   ]
  },
  {
   "cell_type": "code",
   "execution_count": 30,
   "id": "eaee2d71-b0e5-4d3f-b187-c48febbd9ceb",
   "metadata": {},
   "outputs": [
    {
     "name": "stdout",
     "output_type": "stream",
     "text": [
      "200\n"
     ]
    }
   ],
   "source": [
    "quantia = 200\n",
    "print(quantia)"
   ]
  },
  {
   "cell_type": "code",
   "execution_count": 31,
   "id": "ea078d0a-a6cd-4d42-943e-eaa1165921aa",
   "metadata": {},
   "outputs": [
    {
     "name": "stdout",
     "output_type": "stream",
     "text": [
      "4\n"
     ]
    }
   ],
   "source": [
    "num_pessoas = 4\n",
    "print(num_pessoas)"
   ]
  },
  {
   "cell_type": "code",
   "execution_count": 32,
   "id": "d6aa3e93-f0cd-43ac-82af-dcd7620cb022",
   "metadata": {},
   "outputs": [
    {
     "data": {
      "text/plain": [
       "50.0"
      ]
     },
     "execution_count": 32,
     "metadata": {},
     "output_type": "execute_result"
    }
   ],
   "source": [
    "funcao_div_MB(quantia, num_pessoas)"
   ]
  },
  {
   "cell_type": "code",
   "execution_count": 33,
   "id": "f593f439-a8b8-4e25-bec0-16e5a589c85f",
   "metadata": {},
   "outputs": [
    {
     "data": {
      "text/plain": [
       "float"
      ]
     },
     "execution_count": 33,
     "metadata": {},
     "output_type": "execute_result"
    }
   ],
   "source": [
    "type(funcao_div_MB(quantia, num_pessoas))"
   ]
  }
 ],
 "metadata": {
  "kernelspec": {
   "display_name": "Python 3 (ipykernel)",
   "language": "python",
   "name": "python3"
  },
  "language_info": {
   "codemirror_mode": {
    "name": "ipython",
    "version": 3
   },
   "file_extension": ".py",
   "mimetype": "text/x-python",
   "name": "python",
   "nbconvert_exporter": "python",
   "pygments_lexer": "ipython3",
   "version": "3.11.7"
  }
 },
 "nbformat": 4,
 "nbformat_minor": 5
}
