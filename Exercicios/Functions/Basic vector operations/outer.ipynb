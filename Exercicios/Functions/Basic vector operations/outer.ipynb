{
 "cells": [
  {
   "cell_type": "markdown",
   "metadata": {},
   "source": [
    "# Outer product"
   ]
  },
  {
   "cell_type": "markdown",
   "metadata": {},
   "source": [
    "### Real outer product"
   ]
  },
  {
   "cell_type": "markdown",
   "metadata": {},
   "source": [
    "Let $\\mathbf{x}$ and $\\mathbf{y}$ be two real vectors given by:"
   ]
  },
  {
   "cell_type": "markdown",
   "metadata": {},
   "source": [
    "$$\\mathbf{x} = \\left[\n",
    "\\begin{array}{c}\n",
    "x_{0} \\\\\n",
    "x_{1} \\\\\n",
    "\\vdots \\\\\n",
    "x_{N-1}\n",
    "\\end{array}\n",
    "\\right]_{\\, N \\times 1}$$"
   ]
  },
  {
   "cell_type": "markdown",
   "metadata": {},
   "source": [
    "and"
   ]
  },
  {
   "cell_type": "markdown",
   "metadata": {},
   "source": [
    "$$\\mathbf{y} = \\left[\n",
    "\\begin{array}{c}\n",
    "y_{0} \\\\\n",
    "y_{1} \\\\\n",
    "\\vdots \\\\\n",
    "y_{M-1}\n",
    "\\end{array}\n",
    "\\right]_{\\, M \\times 1} \\: .$$"
   ]
  },
  {
   "cell_type": "markdown",
   "metadata": {},
   "source": [
    "In this case, the [outer](https://en.wikipedia.org/wiki/Outer_product) product results in a matrix $\\mathbf{M}$ given by:"
   ]
  },
  {
   "cell_type": "markdown",
   "metadata": {},
   "source": [
    "$$\n",
    "\\begin{split}\n",
    "\\mathbf{M} &= \\mathbf{x} \\otimes \\mathbf{y} \\\\\n",
    "           &= \\mathbf{x} \\cdot \\mathbf{y}^{\\top} \\\\\n",
    "           &= \\begin{bmatrix}\n",
    "                x_{0} \\, \\mathbf{y}^{\\top} \\\\\n",
    "                x_{1} \\, \\mathbf{y}^{\\top} \\\\\n",
    "                \\vdots \\\\\n",
    "                x_{N-1} \\, \\mathbf{y}^{\\top}\n",
    "              \\end{bmatrix}_{\\, N \\times M} \\\\\n",
    "           &= \\begin{bmatrix}\n",
    "                y_{0} \\, \\mathbf{x} & \\dots & y_{M-1} \\, \\mathbf{x}\n",
    "              \\end{bmatrix}_{\\, N \\times M}\n",
    "\\end{split} \\: .\n",
    "$$"
   ]
  },
  {
   "cell_type": "markdown",
   "metadata": {},
   "source": [
    "Notice that, in this case, the result is an $N \\times M$ matrix, where $N$ is the number of elements of $\\mathbf{x}$ and $M$ is the number of elements of $\\mathbf{y}$."
   ]
  },
  {
   "cell_type": "markdown",
   "metadata": {},
   "source": [
    "The matrix $\\mathbf{M}$ can be represented by"
   ]
  },
  {
   "cell_type": "markdown",
   "metadata": {},
   "source": [
    "    outer_real_simple(x, y):\n",
    "\n",
    "        N = size(x)\n",
    "        M = size(y)\n",
    "\n",
    "        M = zeros(N,M)\n",
    "\n",
    "        for i = 0:N-1\n",
    "            for j = 0:M-1\n",
    "                M[i,j] = x[i]*y[j]\n",
    "\n",
    "        return M"
   ]
  },
  {
   "cell_type": "markdown",
   "metadata": {},
   "source": [
    "Alternatively, the pseudo-code presented above can be rewritten by using the *colon notation* as a *row partition*"
   ]
  },
  {
   "cell_type": "markdown",
   "metadata": {},
   "source": [
    "    outer_real_row(x, y):\n",
    "\n",
    "        N = size(x)\n",
    "        M = size(y)\n",
    "\n",
    "        M = zeros(N,M)\n",
    "\n",
    "        for i = 0:N-1\n",
    "            M[i,:] = scalar_vec_real(x[i], y[:])\n",
    "\n",
    "        return M"
   ]
  },
  {
   "cell_type": "markdown",
   "metadata": {},
   "source": [
    "or *colounm partition*"
   ]
  },
  {
   "cell_type": "markdown",
   "metadata": {},
   "source": [
    "    outer_real_column(x, y):\n",
    "\n",
    "        N = size(x)\n",
    "        M = size(y)\n",
    "\n",
    "        M = zeros(N,M)\n",
    "\n",
    "        for j = 0:M-1\n",
    "            M[:,j] = scalar_vec_real(y[j], x[:])\n",
    "\n",
    "        return M"
   ]
  },
  {
   "cell_type": "markdown",
   "metadata": {},
   "source": [
    "The pseudo-codes presented above use the `scalar_vec_real` function defined in the notebook `scalar_vector.ipynb`."
   ]
  },
  {
   "cell_type": "markdown",
   "metadata": {},
   "source": [
    "### Complex outer product"
   ]
  },
  {
   "cell_type": "markdown",
   "metadata": {},
   "source": [
    "Let $\\mathbf{x}$ and $\\mathbf{y}$ be two complex vectors given by:"
   ]
  },
  {
   "cell_type": "markdown",
   "metadata": {},
   "source": [
    "$$\n",
    "\\mathbf{x} = \\mathbf{x}_{R} + imag \\, \\mathbf{x}_{I}\n",
    "$$"
   ]
  },
  {
   "cell_type": "markdown",
   "metadata": {},
   "source": [
    "and"
   ]
  },
  {
   "cell_type": "markdown",
   "metadata": {},
   "source": [
    "$$\n",
    "\\mathbf{y} = \\mathbf{y}_{R} + imag \\, \\mathbf{y}_{I} \\: .\n",
    "$$"
   ]
  },
  {
   "cell_type": "markdown",
   "metadata": {},
   "source": [
    "In this case, the [outer](https://en.wikipedia.org/wiki/Outer_product) product results in a complex matrix $\\mathbf{M}$ given by:"
   ]
  },
  {
   "cell_type": "markdown",
   "metadata": {},
   "source": [
    "$$\n",
    "\\mathbf{M} = \\mathbf{M}_{R} + imag \\, \\mathbf{M}_{I} \\: ,\n",
    "$$"
   ]
  },
  {
   "cell_type": "markdown",
   "metadata": {},
   "source": [
    "where"
   ]
  },
  {
   "cell_type": "markdown",
   "metadata": {},
   "source": [
    "$$\n",
    "\\mathbf{M}_{R} = \\mathbf{x}_{R} \\cdot \\mathbf{y}_{R}^{\\top} - \\mathbf{x}_{I} \\cdot \\mathbf{y}_{I}^{\\top}\n",
    "$$"
   ]
  },
  {
   "cell_type": "markdown",
   "metadata": {},
   "source": [
    "and"
   ]
  },
  {
   "cell_type": "markdown",
   "metadata": {},
   "source": [
    "$$\n",
    "\\mathbf{M}_{I} = \\mathbf{x}_{R} \\cdot \\mathbf{y}_{I}^{\\top} + \\mathbf{x}_{I} \\cdot \\mathbf{y}_{R}^{\\top} \\: .\n",
    "$$"
   ]
  },
  {
   "cell_type": "markdown",
   "metadata": {},
   "source": [
    "The complex outer product can be represented by the following pseudo-code:"
   ]
  },
  {
   "cell_type": "markdown",
   "metadata": {},
   "source": [
    "    outer_complex(x, y):\n",
    "\n",
    "        M_R  = outer_real(Re(x), Re(y))\n",
    "        M_R -= outer_real(Im(x), Im(y))\n",
    "        M_I  = outer_real(Re(x), Im(y))\n",
    "        M_I += outer_real(Im(x), Re(y))\n",
    "        M = M_R + imag*M_I\n",
    "\n",
    "        return M"
   ]
  },
  {
   "cell_type": "markdown",
   "metadata": {},
   "source": [
    "### Exercise"
   ]
  },
  {
   "cell_type": "markdown",
   "metadata": {},
   "source": [
    "Create the functions below according to `template.py`: \n",
    "* `outer_real_simple`\n",
    "* `outer_real_row`\n",
    "* `outer_real_column`\n",
    "* `outer_complex` \n",
    "    \n",
    "These functions must pass the following tests defined in `tests_template.py`:\n",
    "* `test_outer_real_input_not_vector`\n",
    "* `test_outer_real_compare_numpy_outer`\n",
    "* `test_outer_real_known_values`\n",
    "* `test_outer_real_transposition`\n",
    "* `test_outer_real_distributivity`\n",
    "* `test_outer_real_scalar_multiplication`\n",
    "* `test_outer_real_ignore_complex`\n",
    "* `test_outer_complex_compare_numpy_outer`\n",
    "* `test_outer_complex_invalid_function`"
   ]
  },
  {
   "cell_type": "code",
   "execution_count": null,
   "metadata": {},
   "outputs": [],
   "source": []
  }
 ],
 "metadata": {
  "anaconda-cloud": {},
  "kernelspec": {
   "display_name": "Python 3 (ipykernel)",
   "language": "python",
   "name": "python3"
  },
  "language_info": {
   "codemirror_mode": {
    "name": "ipython",
    "version": 3
   },
   "file_extension": ".py",
   "mimetype": "text/x-python",
   "name": "python",
   "nbconvert_exporter": "python",
   "pygments_lexer": "ipython3",
   "version": "3.11.8"
  }
 },
 "nbformat": 4,
 "nbformat_minor": 4
}
