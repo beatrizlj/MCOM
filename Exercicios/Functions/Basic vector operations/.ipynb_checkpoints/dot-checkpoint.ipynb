{
 "cells": [
  {
   "cell_type": "markdown",
   "metadata": {},
   "source": [
    "# Dot product"
   ]
  },
  {
   "cell_type": "markdown",
   "metadata": {},
   "source": [
    "### Real dot product"
   ]
  },
  {
   "cell_type": "markdown",
   "metadata": {},
   "source": [
    "Let $\\mathbf{x}$ and $\\mathbf{y}$ be two $N \\times 1$ real vectors defined as follows:"
   ]
  },
  {
   "cell_type": "markdown",
   "metadata": {},
   "source": [
    "$$\\mathbf{x} = \\left[\n",
    "\\begin{array}{c}\n",
    "x_{0} \\\\\n",
    "x_{1} \\\\\n",
    "\\vdots \\\\\n",
    "x_{N-1}\n",
    "\\end{array}\n",
    "\\right]_{\\, N \\times 1}$$"
   ]
  },
  {
   "cell_type": "markdown",
   "metadata": {},
   "source": [
    "and"
   ]
  },
  {
   "cell_type": "markdown",
   "metadata": {},
   "source": [
    "$$\n",
    "\\mathbf{y} = \\left[\n",
    "\\begin{array}{c}\n",
    "y_{0} \\\\\n",
    "y_{1} \\\\\n",
    "\\vdots \\\\\n",
    "y_{N-1}\n",
    "\\end{array}\n",
    "\\right]_{\\, N \\times 1} \\quad .\n",
    "$$"
   ]
  },
  {
   "cell_type": "markdown",
   "metadata": {},
   "source": [
    "The [dot product](http://mathworld.wolfram.com/DotProduct.html) of $\\mathbf{x}$ and $\\mathbf{y}$ is given by:"
   ]
  },
  {
   "cell_type": "markdown",
   "metadata": {},
   "source": [
    "$$\\begin{split}\n",
    "c & = \\mathbf{x}^{\\top}\\mathbf{y} \\\\\n",
    "  & = \\mathbf{x} \\cdot \\mathbf{y} \\\\\n",
    "  & = \\sum^{N-1}_{i=0} x_{i} \\, y_{i}\n",
    "\\end{split}$$"
   ]
  },
  {
   "cell_type": "markdown",
   "metadata": {},
   "source": [
    "Notice that the result is a scalar (real number)."
   ]
  },
  {
   "cell_type": "markdown",
   "metadata": {},
   "source": [
    "This product can be represented as follows:"
   ]
  },
  {
   "cell_type": "markdown",
   "metadata": {},
   "source": [
    "    dot_real(x, y):\n",
    "        \n",
    "        # number of elements of x\n",
    "        N = size(x)\n",
    "        \n",
    "        # compute the product\n",
    "        c = 0\n",
    "        for i = 0:N-1\n",
    "            c += x[i]*y[i]\n",
    "        \n",
    "        # return the result\n",
    "        return c"
   ]
  },
  {
   "cell_type": "markdown",
   "metadata": {},
   "source": [
    "### Complex dot product"
   ]
  },
  {
   "cell_type": "markdown",
   "metadata": {},
   "source": [
    "Let $\\mathbf{x} = \\mathbf{x}_{R} + imag \\; \\mathbf{x}_{I}$ and $\\mathbf{y} = \\mathbf{y}_{R} + imag \\; \\mathbf{y}_{I}$ be two $N \\times 1$ complex vectors, where $imag = \\sqrt{-1}$ represents the imaginary unit. The dot product of $\\mathbf{x}$ and $\\mathbf{y}$ results in a complex number $c$ given by:"
   ]
  },
  {
   "cell_type": "markdown",
   "metadata": {},
   "source": [
    "$$\n",
    "c = c_{R} + imag \\; c_{I} \\quad ,\n",
    "$$"
   ]
  },
  {
   "cell_type": "markdown",
   "metadata": {},
   "source": [
    "where"
   ]
  },
  {
   "cell_type": "markdown",
   "metadata": {},
   "source": [
    "$$\n",
    "c_{R} = \\mathbf{x}_{R}^{\\top} \\mathbf{y}_{R} - \\mathbf{x}_{I}^{\\top} \\mathbf{y}_{I}\n",
    "$$"
   ]
  },
  {
   "cell_type": "markdown",
   "metadata": {},
   "source": [
    "and"
   ]
  },
  {
   "cell_type": "markdown",
   "metadata": {},
   "source": [
    "$$\n",
    "c_{I} = \\mathbf{x}_{R}^{\\top} \\mathbf{y}_{I} + \\mathbf{x}_{I}^{\\top} \\mathbf{y}_{R} \\quad .\n",
    "$$"
   ]
  },
  {
   "cell_type": "markdown",
   "metadata": {},
   "source": [
    "A pseudo-code for this product can be defined as follows:"
   ]
  },
  {
   "cell_type": "markdown",
   "metadata": {},
   "source": [
    "    dot_complex(a, x):\n",
    "        \n",
    "        # number of elements of x\n",
    "        N = size(x)\n",
    "\n",
    "        # compute the real and imaginary parts of the product\n",
    "        c_R  = dot_real(Re(x), Re(y))\n",
    "        c_R -= dot_real(Im(x), Im(y))\n",
    "        c_I  = dot_real(Re(x), Im(y))\n",
    "        c_I += dot_real(Im(x), Re(y))\n",
    "        c = c_R + imag*c_I\n",
    "        \n",
    "        # return the result        \n",
    "        return c"
   ]
  },
  {
   "cell_type": "markdown",
   "metadata": {},
   "source": [
    "### Exercise"
   ]
  },
  {
   "cell_type": "markdown",
   "metadata": {},
   "source": [
    "Create the functions below according to `template.py`: \n",
    "* `dot_real_dumb`\n",
    "* `dot_complex` \n",
    "    \n",
    "These functions must pass the following tests defined in `tests_template.py`:\n",
    "* `test_dot_real_not_1D_arrays`\n",
    "* `test_dot_real_different_sizes`\n",
    "* `test_dot_real_known_values`\n",
    "* `test_dot_real_compare_numpy_dot`\n",
    "* `test_dot_real_commutativity`\n",
    "* `test_dot_real_distributivity`\n",
    "* `test_dot_real_scalar_multiplication`\n",
    "* `test_dot_real_ignore_complex`\n",
    "* `test_dot_complex_compare_numpy_dot`"
   ]
  },
  {
   "cell_type": "code",
   "execution_count": 1,
   "metadata": {},
   "outputs": [],
   "source": [
    "import numpy as np"
   ]
  },
  {
   "cell_type": "code",
   "execution_count": 2,
   "metadata": {},
   "outputs": [],
   "source": [
    "a = np.arange(4)"
   ]
  },
  {
   "cell_type": "code",
   "execution_count": 3,
   "metadata": {},
   "outputs": [
    {
     "data": {
      "text/plain": [
       "array([0, 1, 2, 3])"
      ]
     },
     "execution_count": 3,
     "metadata": {},
     "output_type": "execute_result"
    }
   ],
   "source": [
    "a"
   ]
  },
  {
   "cell_type": "code",
   "execution_count": 4,
   "metadata": {},
   "outputs": [],
   "source": [
    "b = np.ones(4)"
   ]
  },
  {
   "cell_type": "code",
   "execution_count": 5,
   "metadata": {},
   "outputs": [
    {
     "data": {
      "text/plain": [
       "array([1., 1., 1., 1.])"
      ]
     },
     "execution_count": 5,
     "metadata": {},
     "output_type": "execute_result"
    }
   ],
   "source": [
    "b"
   ]
  },
  {
   "cell_type": "code",
   "execution_count": 6,
   "metadata": {},
   "outputs": [
    {
     "data": {
      "text/plain": [
       "6.0"
      ]
     },
     "execution_count": 6,
     "metadata": {},
     "output_type": "execute_result"
    }
   ],
   "source": [
    "np.dot(a,b)"
   ]
  },
  {
   "cell_type": "code",
   "execution_count": 7,
   "metadata": {},
   "outputs": [
    {
     "data": {
      "text/plain": [
       "array([0., 1., 2., 3.])"
      ]
     },
     "execution_count": 7,
     "metadata": {},
     "output_type": "execute_result"
    }
   ],
   "source": [
    "np.sum(a*b)"
   ]
  },
  {
   "cell_type": "code",
   "execution_count": null,
   "metadata": {},
   "outputs": [],
   "source": []
  }
 ],
 "metadata": {
  "anaconda-cloud": {},
  "kernelspec": {
   "display_name": "Python 3 (ipykernel)",
   "language": "python",
   "name": "python3"
  },
  "language_info": {
   "codemirror_mode": {
    "name": "ipython",
    "version": 3
   },
   "file_extension": ".py",
   "mimetype": "text/x-python",
   "name": "python",
   "nbconvert_exporter": "python",
   "pygments_lexer": "ipython3",
   "version": "3.11.8"
  }
 },
 "nbformat": 4,
 "nbformat_minor": 4
}
