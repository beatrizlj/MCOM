{
 "cells": [
  {
   "cell_type": "markdown",
   "metadata": {},
   "source": [
    "# Vector norms"
   ]
  },
  {
   "cell_type": "markdown",
   "metadata": {},
   "source": [
    "## Definition"
   ]
  },
  {
   "cell_type": "markdown",
   "metadata": {},
   "source": [
    "Let $\\mathbf{x}$ be a $N \\times 1$ real vector given by:"
   ]
  },
  {
   "cell_type": "markdown",
   "metadata": {},
   "source": [
    "$$\n",
    "\\mathbf{x} = \\begin{bmatrix}\n",
    "x_{0} \\\\\n",
    "x_{1} \\\\\n",
    "\\vdots \\\\\n",
    "x_{N-1}\n",
    "\\end{bmatrix}_{\\, N \\times 1} \\quad .\n",
    "$$"
   ]
  },
  {
   "cell_type": "markdown",
   "metadata": {},
   "source": [
    "A [vector norm](http://mathworld.wolfram.com/VectorNorm.html) is a scalar function $f(\\mathbf{x})$ satisfying the folllowing conditions:\n",
    "\n",
    "$$\n",
    "\\begin{split}\n",
    "f(\\mathbf{x}) > 0 & \\: , \\quad \\mathbf{x} \\in \\mathbb{R}^{n}, \\quad f(\\mathbf{x}) = 0 \\:\\: \\text{iff} \\:\\: x_{i} = 0, \\quad \\forall \\: i \\\\\n",
    "f(\\mathbf{x} + \\mathbf{y}) \\leq f(\\mathbf{x}) + f(\\mathbf{y}) & \\: , \\quad \\mathbf{x}, \\mathbf{y} \\in \\mathbb{R}^{n} \\\\\n",
    "f(\\alpha \\, \\mathbf{x}) \\leq \\: \\mid \\alpha \\mid \\, f(\\mathbf{x}) & \\: , \\quad \\mathbf{x} \\in \\mathbb{R}^{n}, \\:\\: \\alpha \\in \\mathbb{R}\n",
    "\\end{split}\n",
    "$$"
   ]
  },
  {
   "cell_type": "markdown",
   "metadata": {},
   "source": [
    "There is a useful class of norms called *p-norms*:\n",
    "\n",
    "$$\n",
    "\\begin{split}\n",
    "f_{p}(\\mathbf{x}) \n",
    "&= \\| \\mathbf{x} \\|_{p} \\\\\n",
    "&= \\left( \\, \\mid x_{0} \\mid^{p} + \\cdots + \\mid x_{N-1} \\mid^{p} \\, \\right)^{\\frac{1}{p}}, \\quad p \\geq 1\n",
    "\\end{split}\n",
    "$$"
   ]
  },
  {
   "cell_type": "markdown",
   "metadata": {},
   "source": [
    "There are three important $p$-norms: "
   ]
  },
  {
   "cell_type": "markdown",
   "metadata": {},
   "source": [
    "#### 2-norm\n",
    "\n",
    "$$\n",
    "\\begin{split}\n",
    "\\| \\mathbf{x} \\|_{2} \n",
    "&= \\left( \\, \\mid x_{0} \\mid^{1} + \\cdots + \\mid x_{N-1} \\mid^{2} \\, \\right)^{\\frac{1}{2}}\n",
    "&= \\sqrt{\\left( \\mathbf{x}^{\\top}\\mathbf{x} \\right)}\n",
    "\\end{split}\n",
    "$$"
   ]
  },
  {
   "cell_type": "markdown",
   "metadata": {},
   "source": [
    "#### 1-norm\n",
    "\n",
    "$$\n",
    "\\| \\mathbf{x} \\|_{1} = \\mid x_{0} \\mid + \\cdots + \\mid x_{N-1} \\mid\n",
    "$$"
   ]
  },
  {
   "cell_type": "markdown",
   "metadata": {},
   "source": [
    "#### $\\infty$-norm\n",
    "\n",
    "$$\n",
    "\\| \\mathbf{x} \\|_{\\infty} = \\max\\limits_{1 \\leq i \\leq N} \\, \\mid x_{i} \\mid\n",
    "$$"
   ]
  },
  {
   "cell_type": "markdown",
   "metadata": {},
   "source": [
    "## Inequalities"
   ]
  },
  {
   "cell_type": "markdown",
   "metadata": {},
   "source": [
    "Hölder inequality\n",
    "\n",
    "$$\n",
    "\\mid \\mathbf{x}^{\\top}\\mathbf{y} \\mid \\leq \\| \\mathbf{x} \\|_{p} \\| \\mathbf{y} \\|_{q} \\: , \\quad \\frac{1}{p} + \\frac{1}{q} = 1\n",
    "$$"
   ]
  },
  {
   "cell_type": "markdown",
   "metadata": {},
   "source": [
    "Cauchy-Schwarz inequality\n",
    "\n",
    "$$\n",
    "\\mid \\mathbf{x}^{\\top}\\mathbf{y} \\mid \\leq \\| \\mathbf{x} \\|_{2} \\| \\mathbf{y} \\|_{2}\n",
    "$$"
   ]
  },
  {
   "cell_type": "markdown",
   "metadata": {},
   "source": [
    "Relationship between these norms\n",
    "\n",
    "$$\n",
    "\\| \\mathbf{x} \\|_{2} \\leq \\| \\mathbf{x} \\|_{1} \\leq \\sqrt{N} \\, \\| \\mathbf{x} \\|_{2}\n",
    "$$\n",
    "\n",
    "$$\n",
    "\\| \\mathbf{x} \\|_{\\infty} \\leq \\| \\mathbf{x} \\|_{2} \\leq \\sqrt{N} \\, \\| \\mathbf{x} \\|_{\\infty}\n",
    "$$\n",
    "\n",
    "$$\n",
    "\\| \\mathbf{x} \\|_{\\infty} \\leq \\| \\mathbf{x} \\|_{1} \\leq N \\, \\| \\mathbf{x} \\|_{\\infty}\n",
    "$$"
   ]
  },
  {
   "cell_type": "markdown",
   "metadata": {},
   "source": [
    "### Exercise"
   ]
  },
  {
   "cell_type": "markdown",
   "metadata": {},
   "source": [
    "1. Create a function called `vec_norm` that receives a numpy array 1D and an integer $p$ to define the norm, according to the template given below:\n",
    "\n",
    "```python\n",
    "def vec_norm(x, p):\n",
    "    '''\n",
    "    Compute the p-norm of a given real vector 'x'.\n",
    "\n",
    "    Parameters\n",
    "    ----------\n",
    "    x : numpy array 1d\n",
    "        Vector for which the norm will be computed.\n",
    "    p : positive integer\n",
    "        Positive integer defining the norm. The possible values \n",
    "        0, 1 and 2 define the inf-, 1- and 2-norm, respectively.\n",
    "\n",
    "    Returns\n",
    "    -------\n",
    "    result : positive scalar\n",
    "        Positive scalar representing the computed p-norm.\n",
    "    '''\n",
    "\n",
    "    # create your code here\n",
    "    \n",
    "    return result\n",
    "```\n",
    "\n",
    "The function `vec_norm` **must**: \n",
    "* verify if the given `x` is a numpy array with ndim = 1;\n",
    "* verify if `p` is a positive integer equal to 0, 1 or 2;\n",
    "* ignore possible imaginary of the input parameters;\n",
    "* use your `dot_real` function to compute the 2-norm;\n",
    "\n",
    "**Hints:** (i) Use the chained conditionals `if`, `elif`, `else` (see the Software Carpentry lesson [Making Choices](https://swcarpentry.github.io/python-novice-inflammation/07-cond.html)). (ii) Use the function [numpy.abs](https://docs.scipy.org/doc/numpy/reference/generated/numpy.absolute.html) to compute the 1-norm. (iii) Use the function [numpy.max](https://docs.scipy.org/doc/numpy/reference/generated/numpy.ndarray.max.html) to compute the $\\infty$-norm.\n",
    "\n",
    "\n",
    "2. Create seven tests. Each test must verify one of the inequalities and have the corresponding names given below:\n",
    "    * $f(\\mathbf{x}) > 0$ for any $\\mathbf{x}$ having at least one non-null element (`test_vec_norm_positivity`)\n",
    "    * $f(\\mathbf{x} + \\mathbf{y}) \\leq f(\\mathbf{x}) + f(\\mathbf{y})$ (`test_vec_norm_triangle_inequality`)\n",
    "    * $f(\\alpha \\, \\mathbf{x}) \\leq \\: \\mid \\alpha \\mid \\, f(\\mathbf{x})$ (`test_vec_norm_scalar_multiplier`)\n",
    "    * $\\mid \\mathbf{x}^{\\top}\\mathbf{y} \\mid \\leq \\| \\mathbf{x} \\|_{2} \\| \\mathbf{y} \\|_{2}$ (`test_vec_norm_Cauchy_Schwarz_inequality`)\n",
    "    * $\\| \\mathbf{x} \\|_{2} \\leq \\| \\mathbf{x} \\|_{1} \\leq \\sqrt{N} \\, \\| \\mathbf{x} \\|_{2}$ (`test_vec_norm_p2_p1_relationship`)\n",
    "    * $\\| \\mathbf{x} \\|_{\\infty} \\leq \\| \\mathbf{x} \\|_{2} \\leq \\sqrt{N} \\, \\| \\mathbf{x} \\|_{\\infty}$ (`test_vec_norm_pinf_p2_relationship`)\n",
    "    * $\\| \\mathbf{x} \\|_{\\infty} \\leq \\| \\mathbf{x} \\|_{1} \\leq N \\, \\| \\mathbf{x} \\|_{\\infty}$ (`test_vec_norm_pinf_p1_relationship`)"
   ]
  },
  {
   "cell_type": "code",
   "execution_count": null,
   "metadata": {},
   "outputs": [],
   "source": []
  }
 ],
 "metadata": {
  "kernelspec": {
   "display_name": "Python 3 (ipykernel)",
   "language": "python",
   "name": "python3"
  },
  "language_info": {
   "codemirror_mode": {
    "name": "ipython",
    "version": 3
   },
   "file_extension": ".py",
   "mimetype": "text/x-python",
   "name": "python",
   "nbconvert_exporter": "python",
   "pygments_lexer": "ipython3",
   "version": "3.11.7"
  }
 },
 "nbformat": 4,
 "nbformat_minor": 4
}
