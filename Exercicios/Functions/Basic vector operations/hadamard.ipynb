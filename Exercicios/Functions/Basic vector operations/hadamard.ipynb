{
 "cells": [
  {
   "cell_type": "markdown",
   "metadata": {},
   "source": [
    "# Hadamard product"
   ]
  },
  {
   "cell_type": "markdown",
   "metadata": {},
   "source": [
    "### Real Hadamard product of vectors"
   ]
  },
  {
   "cell_type": "markdown",
   "metadata": {},
   "source": [
    "Let $\\mathbf{x}$ and $\\mathbf{y}$ be two $N \\times 1$ real vectors given by:"
   ]
  },
  {
   "cell_type": "markdown",
   "metadata": {},
   "source": [
    "$$\\mathbf{x} = \\left[\n",
    "\\begin{array}{c}\n",
    "x_{0} \\\\\n",
    "x_{1} \\\\\n",
    "\\vdots \\\\\n",
    "x_{N-1}\n",
    "\\end{array}\n",
    "\\right]_{\\, N \\times 1}$$"
   ]
  },
  {
   "cell_type": "markdown",
   "metadata": {},
   "source": [
    "and"
   ]
  },
  {
   "cell_type": "markdown",
   "metadata": {},
   "source": [
    "$$\\mathbf{y} = \\left[\n",
    "\\begin{array}{c}\n",
    "y_{0} \\\\\n",
    "y_{1} \\\\\n",
    "\\vdots \\\\\n",
    "y_{N-1}\n",
    "\\end{array}\n",
    "\\right]_{\\, N \\times 1} \\: .$$"
   ]
  },
  {
   "cell_type": "markdown",
   "metadata": {},
   "source": [
    "In this case, the <a href='https://en.wikipedia.org/wiki/Hadamard_product_(matrices)'>Hadamard product</a> (or entrywise product) results in a real vector $\\mathbf{z}$ defined as follows:"
   ]
  },
  {
   "cell_type": "markdown",
   "metadata": {},
   "source": [
    "$$\\begin{split}\n",
    "\\mathbf{z} \n",
    "& = \\mathbf{x} \\circ \\mathbf{y} \\\\\n",
    "& = \\left[\n",
    "\\begin{array}{c}\n",
    "x_{0} \\, y_{0} \\\\\n",
    "x_{1} \\, y_{1}\\\\\n",
    "\\vdots \\\\\n",
    "x_{N-1} \\, y_{N-1}\n",
    "\\end{array}\n",
    "\\right]_{\\, N \\times 1}\n",
    "\\end{split} \\: .$$"
   ]
  },
  {
   "cell_type": "markdown",
   "metadata": {},
   "source": [
    "Notice that the result is a vector with the same number of elements as $\\mathbf{x}$ and $\\mathbf{y}$."
   ]
  },
  {
   "cell_type": "markdown",
   "metadata": {
    "collapsed": true,
    "jupyter": {
     "outputs_hidden": true
    }
   },
   "source": [
    "This product can be represented by"
   ]
  },
  {
   "cell_type": "markdown",
   "metadata": {},
   "source": [
    "    hadamard_real_vector(x, y):\n",
    "        N = size(x)\n",
    "        z = zeros(N)\n",
    "        for i = 0:N-1\n",
    "            z[i] = x[i]*y[i]\n",
    "        return z"
   ]
  },
  {
   "cell_type": "markdown",
   "metadata": {},
   "source": [
    "Or, by using the *colon* notation,"
   ]
  },
  {
   "cell_type": "markdown",
   "metadata": {},
   "source": [
    "    hadamard_real_vector(x, y):\n",
    "        N = size(x)\n",
    "        z = zeros(N)\n",
    "        z[:] = x[:]*y[:]\n",
    "        return z"
   ]
  },
  {
   "cell_type": "markdown",
   "metadata": {},
   "source": [
    "### Real Hadamard product of matrices"
   ]
  },
  {
   "cell_type": "markdown",
   "metadata": {},
   "source": [
    "Let $\\mathbf{A}$ and $\\mathbf{B}$ be two $N \\times M$ real matrices given by:"
   ]
  },
  {
   "cell_type": "markdown",
   "metadata": {},
   "source": [
    "$$\n",
    "\\mathbf{A} = \\begin{bmatrix}\n",
    "a_{00} & \\cdots & a_{1(M-1)} \\\\\n",
    "\\vdots &        & \\vdots \\\\\n",
    "a_{(N-1)1} & \\cdots & a_{(N-1)(M-1)}\n",
    "\\end{bmatrix}_{\\, N \\times M}\n",
    "$$"
   ]
  },
  {
   "cell_type": "markdown",
   "metadata": {},
   "source": [
    "and"
   ]
  },
  {
   "cell_type": "markdown",
   "metadata": {},
   "source": [
    "$$\n",
    "\\mathbf{B} = \\begin{bmatrix}\n",
    "b_{00} & \\cdots & b_{1(M-1)} \\\\\n",
    "\\vdots &        & \\vdots \\\\\n",
    "b_{(N-1)1} & \\cdots & b_{(N-1)(M-1)}\n",
    "\\end{bmatrix}_{\\, N \\times M}\n",
    "$$"
   ]
  },
  {
   "cell_type": "markdown",
   "metadata": {},
   "source": [
    "In this case, the <a href='https://en.wikipedia.org/wiki/Hadamard_product_(matrices)'>Hadamard product</a> (or entrywise product) results in a real matrix $\\mathbf{C}$ defined as follows:"
   ]
  },
  {
   "cell_type": "markdown",
   "metadata": {},
   "source": [
    "$$\\begin{split}\n",
    "\\mathbf{C} \n",
    "& = \\mathbf{A} \\circ \\mathbf{B} \\\\\n",
    "& = \\begin{bmatrix}\n",
    "a_{00} b_{00} & \\cdots & a_{1(M-1)} b_{1(M-1)} \\\\\n",
    "\\vdots &        & \\vdots \\\\\n",
    "a_{(N-1)1} b_{(N-1)1} & \\cdots & a_{(N-1)(M-1)} b_{(N-1)(M-1)}\n",
    "\\end{bmatrix}_{\\, N \\times M}\n",
    "\\end{split} \\: .$$"
   ]
  },
  {
   "cell_type": "markdown",
   "metadata": {},
   "source": [
    "Notice that the result is a matrix with the same number of rows/columns as $\\mathbf{A}$ and $\\mathbf{B}$."
   ]
  },
  {
   "cell_type": "markdown",
   "metadata": {
    "collapsed": true,
    "jupyter": {
     "outputs_hidden": true
    }
   },
   "source": [
    "This product can be represented by"
   ]
  },
  {
   "cell_type": "markdown",
   "metadata": {},
   "source": [
    "    hadamard_real_matrix(A, B):\n",
    "        N, M = shape(A)\n",
    "        C = zeros(N,M)\n",
    "        for i = 0:N-1\n",
    "            for j = 0:M-1\n",
    "                C[i,j] = A[i,j]*B[i,j]\n",
    "        return C"
   ]
  },
  {
   "cell_type": "markdown",
   "metadata": {},
   "source": [
    "Or, by using the *colon* notation,"
   ]
  },
  {
   "cell_type": "markdown",
   "metadata": {},
   "source": [
    "    hadamard_real_matrix(A, B):\n",
    "        N, M = shape(A)\n",
    "        C = zeros(N,M)\n",
    "        C[:,:] = A[:,:]*B[:,:]\n",
    "        return C"
   ]
  },
  {
   "cell_type": "markdown",
   "metadata": {},
   "source": [
    "### Complex Hadamard product of vectors"
   ]
  },
  {
   "cell_type": "markdown",
   "metadata": {},
   "source": [
    "Let $\\mathbf{x}$ and $\\mathbf{y}$ be two $N \\times 1$ complex vectors given by:"
   ]
  },
  {
   "cell_type": "markdown",
   "metadata": {},
   "source": [
    "$$\n",
    "\\mathbf{x} = \\mathbf{x}_{R} + imag \\, \\mathbf{x}_{I}\n",
    "$$"
   ]
  },
  {
   "cell_type": "markdown",
   "metadata": {},
   "source": [
    "and"
   ]
  },
  {
   "cell_type": "markdown",
   "metadata": {},
   "source": [
    "$$\n",
    "\\mathbf{y} = \\mathbf{y}_{R} + imag \\, \\mathbf{y}_{I} \\: .\n",
    "$$"
   ]
  },
  {
   "cell_type": "markdown",
   "metadata": {},
   "source": [
    "In this case, the <a href='https://en.wikipedia.org/wiki/Hadamard_product_(matrices)'>Hadamard product</a> (or entrywise product) results in a complex vector $\\mathbf{z}$ defined as follows:"
   ]
  },
  {
   "cell_type": "markdown",
   "metadata": {},
   "source": [
    "$$\n",
    "\\mathbf{z} = \\mathbf{z}_{R} + imag \\, \\mathbf{z}_{I} \\: ,\n",
    "$$"
   ]
  },
  {
   "cell_type": "markdown",
   "metadata": {},
   "source": [
    "where"
   ]
  },
  {
   "cell_type": "markdown",
   "metadata": {},
   "source": [
    "$$\n",
    "\\mathbf{z}_{R} = \\mathbf{x}_{R} \\circ \\mathbf{y}_{R} - \\mathbf{x}_{I} \\circ \\mathbf{y}_{I}\n",
    "$$"
   ]
  },
  {
   "cell_type": "markdown",
   "metadata": {},
   "source": [
    "and"
   ]
  },
  {
   "cell_type": "markdown",
   "metadata": {},
   "source": [
    "$$\n",
    "\\mathbf{z}_{I} = \\mathbf{x}_{R} \\circ \\mathbf{y}_{I} + \\mathbf{x}_{I} \\circ \\mathbf{y}_{R} \\: .\n",
    "$$"
   ]
  },
  {
   "cell_type": "markdown",
   "metadata": {},
   "source": [
    "Notice that the result is a vector with the same number of elements as $\\mathbf{x}$ and $\\mathbf{y}$."
   ]
  },
  {
   "cell_type": "markdown",
   "metadata": {
    "collapsed": true,
    "jupyter": {
     "outputs_hidden": true
    }
   },
   "source": [
    "This product can be represented by"
   ]
  },
  {
   "cell_type": "markdown",
   "metadata": {},
   "source": [
    "    hadamard_complex_vector(x, y):\n",
    "\n",
    "        y_R  = hadamard_real_vector(Re(x), Re(y))\n",
    "        y_R -= hadamard_real_vector(Im(x), Im(y))\n",
    "        y_I  = hadamard_real_vector(Re(x), Im(y))\n",
    "        y_I += hadamard_real_vector(Im(x), Re(y))\n",
    "        y = y_R + imag*y_I\n",
    "\n",
    "        return y"
   ]
  },
  {
   "cell_type": "markdown",
   "metadata": {},
   "source": [
    "### Complex Hadamard product of matrices"
   ]
  },
  {
   "cell_type": "markdown",
   "metadata": {},
   "source": [
    "Let $\\mathbf{A}$ and $\\mathbf{B}$ be two $N \\times 1$ complex matrices given by:"
   ]
  },
  {
   "cell_type": "markdown",
   "metadata": {},
   "source": [
    "$$\n",
    "\\mathbf{A} = \\mathbf{A}_{R} + imag \\, \\mathbf{A}_{I}\n",
    "$$"
   ]
  },
  {
   "cell_type": "markdown",
   "metadata": {},
   "source": [
    "and"
   ]
  },
  {
   "cell_type": "markdown",
   "metadata": {},
   "source": [
    "$$\n",
    "\\mathbf{B} = \\mathbf{B}_{R} + imag \\, \\mathbf{B}_{I} \\: .\n",
    "$$"
   ]
  },
  {
   "cell_type": "markdown",
   "metadata": {},
   "source": [
    "In this case, the <a href='https://en.wikipedia.org/wiki/Hadamard_product_(matrices)'>Hadamard product</a> (or entrywise product) results in a complex vector $\\mathbf{C}$ defined as follows:"
   ]
  },
  {
   "cell_type": "markdown",
   "metadata": {},
   "source": [
    "$$\n",
    "\\mathbf{C} = \\mathbf{C}_{R} + imag \\, \\mathbf{C}_{I} \\: ,\n",
    "$$"
   ]
  },
  {
   "cell_type": "markdown",
   "metadata": {},
   "source": [
    "where"
   ]
  },
  {
   "cell_type": "markdown",
   "metadata": {},
   "source": [
    "$$\n",
    "\\mathbf{C}_{R} = \\mathbf{A}_{R} \\circ \\mathbf{B}_{R} - \\mathbf{A}_{I} \\circ \\mathbf{B}_{I}\n",
    "$$"
   ]
  },
  {
   "cell_type": "markdown",
   "metadata": {},
   "source": [
    "and"
   ]
  },
  {
   "cell_type": "markdown",
   "metadata": {},
   "source": [
    "$$\n",
    "\\mathbf{C}_{I} = \\mathbf{A}_{R} \\circ \\mathbf{B}_{I} + \\mathbf{A}_{I} \\circ \\mathbf{B}_{R} \\: .\n",
    "$$"
   ]
  },
  {
   "cell_type": "markdown",
   "metadata": {},
   "source": [
    "Notice that the result is a matrix with the same number of elements as $\\mathbf{A}$ and $\\mathbf{B}$."
   ]
  },
  {
   "cell_type": "markdown",
   "metadata": {
    "collapsed": true,
    "jupyter": {
     "outputs_hidden": true
    }
   },
   "source": [
    "This product can be represented by"
   ]
  },
  {
   "cell_type": "markdown",
   "metadata": {},
   "source": [
    "    hadamard_complex_matrix(A, B):\n",
    "\n",
    "        C_R  = hadamard_real_matrix(Re(A), Re(B))\n",
    "        C_R -= hadamard_real_matrix(Im(A), Im(B))\n",
    "        C_I  = hadamard_real_matrix(Re(A), Im(B))\n",
    "        C_I += hadamard_real_matrix(Im(A), Re(B))\n",
    "        C = C_R + imag*C_I\n",
    "\n",
    "        return C"
   ]
  },
  {
   "cell_type": "markdown",
   "metadata": {},
   "source": [
    "### Exercise"
   ]
  },
  {
   "cell_type": "markdown",
   "metadata": {},
   "source": [
    "Create the functions below according to `template.py`: \n",
    "* `hadamard_real`\n",
    "* `hadamard_complex`\n",
    "    \n",
    "These functions must pass the following tests defined in `tests_template.py`:\n",
    "* `test_hadamard_real_different_shapes`\n",
    "* `test_hadamard_real_compare_asterisk`\n",
    "* `test_hadamard_real_ignore_complex`\n",
    "* `test_hadamard_complex_compare_asterisk`"
   ]
  },
  {
   "cell_type": "code",
   "execution_count": null,
   "metadata": {},
   "outputs": [],
   "source": []
  }
 ],
 "metadata": {
  "anaconda-cloud": {},
  "kernelspec": {
   "display_name": "Python 3 (ipykernel)",
   "language": "python",
   "name": "python3"
  },
  "language_info": {
   "codemirror_mode": {
    "name": "ipython",
    "version": 3
   },
   "file_extension": ".py",
   "mimetype": "text/x-python",
   "name": "python",
   "nbconvert_exporter": "python",
   "pygments_lexer": "ipython3",
   "version": "3.11.8"
  }
 },
 "nbformat": 4,
 "nbformat_minor": 4
}
